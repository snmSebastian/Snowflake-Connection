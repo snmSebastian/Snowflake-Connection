{
 "cells": [
  {
   "cell_type": "markdown",
   "metadata": {},
   "source": [
    "# Conexion"
   ]
  },
  {
   "cell_type": "code",
   "execution_count": null,
   "metadata": {},
   "outputs": [],
   "source": [
    "def conecction_snowflake(name_connection,name_database):\n",
    "    \"\"\"\n",
    "    Establece una conexión a una base de datos de Snowflake utilizando las credenciales almacenadas\n",
    "    en un archivo de configuración de SnowSQL y selecciona una base de datos específica.\n",
    "\n",
    "    Parámetros:\n",
    "    - name_connection (str): El nombre de la conexión que se utilizará para obtener las credenciales\n",
    "      del archivo de configuración de SnowSQL.\n",
    "    - name_database (str): El nombre de la base de datos de Snowflake a la que se desea conectar.\n",
    "\n",
    "    Retorna:\n",
    "    - cursor: Un objeto cursor de Snowflake que se puede utilizar para ejecutar consultas SQL.\n",
    "\n",
    "    Ejemplo de uso:\n",
    "\n",
    "    cursor = conecction_snowflake('mi_conexion', 'mi_base_de_datos')\n",
    "    \"\"\"\n",
    "    import snowflake.connector\n",
    "    import os\n",
    "    import configparser\n",
    "        \n",
    "    # Obtener la ruta del archivo de configuración de SnowSQL\n",
    "    config_path = os.path.join(os.environ['USERPROFILE'], '.snowsql', 'config')\n",
    "\n",
    "    # Leer el archivo de configuración\n",
    "    config = configparser.ConfigParser()\n",
    "    config.read(config_path)\n",
    "    \n",
    "    # Obtener las credenciales de la sección [connections.example]\n",
    "    try:\n",
    "        section_name=f'connections.{name_connection}'\n",
    "        account = config[section_name]['accountname']\n",
    "        user = config[section_name]['username']\n",
    "        password = config[section_name]['password']\n",
    "    except KeyError as e:\n",
    "        print(f\"Error: No se encontraron las credenciales en el archivo de configuración: {e}\")\n",
    "        exit()\n",
    "\n",
    "    # Conexión a Snowflake\n",
    "    try:\n",
    "        conn = snowflake.connector.connect(\n",
    "            user=user,\n",
    "            password=password,\n",
    "            account=account\n",
    "        )\n",
    "        print(\"Conexión exitosa a Snowflake\")\n",
    "\n",
    "    except Exception as e:\n",
    "        print(f\"Error de conexión: {e}\")\n",
    "\n",
    "  # Seleccionar la base de datos\n",
    "    try:\n",
    "        cursor = conn.cursor()\n",
    "        cursor.execute(f'USE DATABASE {name_database}')\n",
    "        print(f'Conexión exitosa a la base de datos: {name_database}')\n",
    "    except Exception as e:\n",
    "        print(f\"Error al seleccionar la base de datos: {e}\")\n",
    "\n",
    "\n",
    "    return cursor  \n",
    "        "
   ]
  },
  {
   "cell_type": "code",
   "execution_count": 2,
   "metadata": {},
   "outputs": [
    {
     "name": "stdout",
     "output_type": "stream",
     "text": [
      "Conexión exitosa a Snowflake\n",
      "Conexión exitosa a la base de datos: DATA_PRUEBA\n"
     ]
    }
   ],
   "source": [
    "cursor=conecction_snowflake('demo','DATA_PRUEBA')"
   ]
  },
  {
   "cell_type": "code",
   "execution_count": 3,
   "metadata": {},
   "outputs": [
    {
     "name": "stdout",
     "output_type": "stream",
     "text": [
      "  COL1 COL2\n",
      "0    1    2\n",
      "1    2    6\n",
      "2    3   12\n",
      "3    4    5\n",
      "4    5    0\n"
     ]
    }
   ],
   "source": [
    "sql=\"\"\"\n",
    "    select * FROM TABLA_PRUEBA1;\n",
    "\"\"\"\n",
    "result=cursor.execute(sql).fetch_pandas_all()\n",
    "\n",
    "print(result.head())"
   ]
  }
 ],
 "metadata": {
  "kernelspec": {
   "display_name": "Python 3",
   "language": "python",
   "name": "python3"
  },
  "language_info": {
   "codemirror_mode": {
    "name": "ipython",
    "version": 3
   },
   "file_extension": ".py",
   "mimetype": "text/x-python",
   "name": "python",
   "nbconvert_exporter": "python",
   "pygments_lexer": "ipython3",
   "version": "3.13.2"
  }
 },
 "nbformat": 4,
 "nbformat_minor": 2
}
